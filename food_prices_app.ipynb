{
 "cells": [
  {
   "cell_type": "code",
   "execution_count": 1,
   "id": "b53e6ab6",
   "metadata": {
    "tags": []
   },
   "outputs": [],
   "source": [
    "# !pip install catboost\n",
    "# !pip install xgboost"
   ]
  },
  {
   "cell_type": "markdown",
   "id": "3cb346a6",
   "metadata": {},
   "source": [
    "# 1. Import Necessary Libraries "
   ]
  },
  {
   "cell_type": "code",
   "execution_count": 2,
   "id": "0b214a4a",
   "metadata": {},
   "outputs": [],
   "source": [
    "# import necessary libraries\n",
    "import pandas as pd #library for data manipulation\n",
    "import numpy as np # library for working with arrayS\n",
    "\n",
    "# creating visualizations in Python\n",
    "import matplotlib.pyplot as plt\n",
    "import plotly.express as px\n",
    "from pylab import rcParams\n",
    "import seaborn as sns\n",
    "sns.set_style('darkgrid')\n",
    "rcParams['figure.figsize'] = 8,8\n",
    "import warnings\n",
    "warnings.filterwarnings('ignore')\n",
    "%matplotlib inline\n",
    "\n",
    "# import modelling libraries\n",
    "from catboost import CatBoostRegressor #features built in support for handling categorical features\n",
    "from xgboost import XGBRegressor #designed to be fast and efficient: for both classification and regression\n",
    "from sklearn.ensemble import RandomForestRegressor #creates multiple decision trees\n",
    "from sklearn.linear_model import LinearRegression\n",
    "\n",
    "from sklearn.metrics import mean_squared_error, mean_absolute_error\n",
    "from sklearn.model_selection import train_test_split, StratifiedKFold, KFold, RepeatedStratifiedKFold\n",
    "\n",
    "# pd.options.display.max_rows=2000\n",
    "pd.set_option('display.max_rows', 100) #sets maximum rows to 100\n",
    "pd.set_option('display.max_columns', 30) #sets maximum columns to 30"
   ]
  },
  {
   "cell_type": "markdown",
   "id": "8477a80a",
   "metadata": {},
   "source": [
    "# 2. Read Data"
   ]
  },
  {
   "cell_type": "code",
   "execution_count": 3,
   "id": "1e2e9e18",
   "metadata": {},
   "outputs": [],
   "source": [
    "# read csv data\n",
    "df = pd.read_csv('food_prices_kenya.csv', parse_dates=True, index_col='date')"
   ]
  },
  {
   "cell_type": "code",
   "execution_count": 4,
   "id": "76a4f2c4",
   "metadata": {},
   "outputs": [
    {
     "data": {
      "text/html": [
       "<div>\n",
       "<style scoped>\n",
       "    .dataframe tbody tr th:only-of-type {\n",
       "        vertical-align: middle;\n",
       "    }\n",
       "\n",
       "    .dataframe tbody tr th {\n",
       "        vertical-align: top;\n",
       "    }\n",
       "\n",
       "    .dataframe thead th {\n",
       "        text-align: right;\n",
       "    }\n",
       "</style>\n",
       "<table border=\"1\" class=\"dataframe\">\n",
       "  <thead>\n",
       "    <tr style=\"text-align: right;\">\n",
       "      <th></th>\n",
       "      <th>admin1</th>\n",
       "      <th>admin2</th>\n",
       "      <th>market</th>\n",
       "      <th>latitude</th>\n",
       "      <th>longitude</th>\n",
       "      <th>category</th>\n",
       "      <th>commodity</th>\n",
       "      <th>unit</th>\n",
       "      <th>priceflag</th>\n",
       "      <th>pricetype</th>\n",
       "      <th>currency</th>\n",
       "      <th>price</th>\n",
       "      <th>usdprice</th>\n",
       "    </tr>\n",
       "    <tr>\n",
       "      <th>date</th>\n",
       "      <th></th>\n",
       "      <th></th>\n",
       "      <th></th>\n",
       "      <th></th>\n",
       "      <th></th>\n",
       "      <th></th>\n",
       "      <th></th>\n",
       "      <th></th>\n",
       "      <th></th>\n",
       "      <th></th>\n",
       "      <th></th>\n",
       "      <th></th>\n",
       "      <th></th>\n",
       "    </tr>\n",
       "  </thead>\n",
       "  <tbody>\n",
       "    <tr>\n",
       "      <th>11/15/2021</th>\n",
       "      <td>Nyanza</td>\n",
       "      <td>Kisumu</td>\n",
       "      <td>Kibuye (Kisumu)</td>\n",
       "      <td>-0.0927162</td>\n",
       "      <td>34.7691</td>\n",
       "      <td>cereals and tubers</td>\n",
       "      <td>Sorghum (red)</td>\n",
       "      <td>90 KG</td>\n",
       "      <td>actual</td>\n",
       "      <td>Wholesale</td>\n",
       "      <td>KES</td>\n",
       "      <td>3996</td>\n",
       "      <td>35.9838</td>\n",
       "    </tr>\n",
       "    <tr>\n",
       "      <th>6/15/2021</th>\n",
       "      <td>Rift Valley</td>\n",
       "      <td>Turkana</td>\n",
       "      <td>Kalobeyei (Village 3)</td>\n",
       "      <td>3.713947283</td>\n",
       "      <td>34.85746868</td>\n",
       "      <td>miscellaneous food</td>\n",
       "      <td>Sugar</td>\n",
       "      <td>KG</td>\n",
       "      <td>aggregate</td>\n",
       "      <td>Retail</td>\n",
       "      <td>KES</td>\n",
       "      <td>120</td>\n",
       "      <td>1.1241</td>\n",
       "    </tr>\n",
       "    <tr>\n",
       "      <th>11/15/2021</th>\n",
       "      <td>Rift Valley</td>\n",
       "      <td>Baringo</td>\n",
       "      <td>Marigat town (Baringo)</td>\n",
       "      <td>0.469569</td>\n",
       "      <td>35.980663</td>\n",
       "      <td>cereals and tubers</td>\n",
       "      <td>Millet (finger)</td>\n",
       "      <td>90 KG</td>\n",
       "      <td>actual</td>\n",
       "      <td>Wholesale</td>\n",
       "      <td>KES</td>\n",
       "      <td>7200</td>\n",
       "      <td>64.8357</td>\n",
       "    </tr>\n",
       "    <tr>\n",
       "      <th>10/15/2021</th>\n",
       "      <td>Rift Valley</td>\n",
       "      <td>Turkana</td>\n",
       "      <td>Kalobeyei (Village 2)</td>\n",
       "      <td>3.760887785</td>\n",
       "      <td>34.75283168</td>\n",
       "      <td>pulses and nuts</td>\n",
       "      <td>Beans (dry)</td>\n",
       "      <td>KG</td>\n",
       "      <td>aggregate</td>\n",
       "      <td>Retail</td>\n",
       "      <td>KES</td>\n",
       "      <td>106.67</td>\n",
       "      <td>0.9706</td>\n",
       "    </tr>\n",
       "    <tr>\n",
       "      <th>5/15/2021</th>\n",
       "      <td>North Eastern</td>\n",
       "      <td>Garissa</td>\n",
       "      <td>IFO (Daadab)</td>\n",
       "      <td>0.110807</td>\n",
       "      <td>40.316079</td>\n",
       "      <td>meat, fish and eggs</td>\n",
       "      <td>Meat (beef)</td>\n",
       "      <td>KG</td>\n",
       "      <td>aggregate</td>\n",
       "      <td>Retail</td>\n",
       "      <td>KES</td>\n",
       "      <td>480</td>\n",
       "      <td>4.4559</td>\n",
       "    </tr>\n",
       "    <tr>\n",
       "      <th>1/15/2015</th>\n",
       "      <td>Nyanza</td>\n",
       "      <td>Kisumu</td>\n",
       "      <td>Kisumu</td>\n",
       "      <td>-0.1</td>\n",
       "      <td>34.75</td>\n",
       "      <td>cereals and tubers</td>\n",
       "      <td>Potatoes (Irish)</td>\n",
       "      <td>50 KG</td>\n",
       "      <td>actual</td>\n",
       "      <td>Wholesale</td>\n",
       "      <td>KES</td>\n",
       "      <td>1483.33</td>\n",
       "      <td>16.5413</td>\n",
       "    </tr>\n",
       "    <tr>\n",
       "      <th>1/15/2021</th>\n",
       "      <td>Nairobi</td>\n",
       "      <td>Nairobi</td>\n",
       "      <td>Mathare (Nairobi)</td>\n",
       "      <td>-1.256</td>\n",
       "      <td>36.8572</td>\n",
       "      <td>meat, fish and eggs</td>\n",
       "      <td>Meat (goat)</td>\n",
       "      <td>KG</td>\n",
       "      <td>aggregate</td>\n",
       "      <td>Retail</td>\n",
       "      <td>KES</td>\n",
       "      <td>520</td>\n",
       "      <td>4.7532</td>\n",
       "    </tr>\n",
       "    <tr>\n",
       "      <th>3/15/2021</th>\n",
       "      <td>Rift Valley</td>\n",
       "      <td>Turkana</td>\n",
       "      <td>Mogadishu (Kakuma)</td>\n",
       "      <td>3.71708</td>\n",
       "      <td>34.850333</td>\n",
       "      <td>pulses and nuts</td>\n",
       "      <td>Beans (dry)</td>\n",
       "      <td>KG</td>\n",
       "      <td>aggregate</td>\n",
       "      <td>Retail</td>\n",
       "      <td>KES</td>\n",
       "      <td>115</td>\n",
       "      <td>1.0642</td>\n",
       "    </tr>\n",
       "    <tr>\n",
       "      <th>10/15/2018</th>\n",
       "      <td>Coast</td>\n",
       "      <td>Mombasa</td>\n",
       "      <td>Mombasa</td>\n",
       "      <td>-4.05</td>\n",
       "      <td>39.666667</td>\n",
       "      <td>pulses and nuts</td>\n",
       "      <td>Beans (dry)</td>\n",
       "      <td>90 KG</td>\n",
       "      <td>actual</td>\n",
       "      <td>Wholesale</td>\n",
       "      <td>KES</td>\n",
       "      <td>5243.75</td>\n",
       "      <td>52.5163</td>\n",
       "    </tr>\n",
       "    <tr>\n",
       "      <th>5/15/2010</th>\n",
       "      <td>Nairobi</td>\n",
       "      <td>Nairobi</td>\n",
       "      <td>Nairobi</td>\n",
       "      <td>-1.283333</td>\n",
       "      <td>36.816667</td>\n",
       "      <td>oil and fats</td>\n",
       "      <td>Oil (vegetable)</td>\n",
       "      <td>L</td>\n",
       "      <td>actual</td>\n",
       "      <td>Retail</td>\n",
       "      <td>KES</td>\n",
       "      <td>138</td>\n",
       "      <td>1.7587</td>\n",
       "    </tr>\n",
       "  </tbody>\n",
       "</table>\n",
       "</div>"
      ],
      "text/plain": [
       "                   admin1   admin2                  market     latitude  \\\n",
       "date                                                                      \n",
       "11/15/2021         Nyanza   Kisumu         Kibuye (Kisumu)   -0.0927162   \n",
       "6/15/2021     Rift Valley  Turkana   Kalobeyei (Village 3)  3.713947283   \n",
       "11/15/2021    Rift Valley  Baringo  Marigat town (Baringo)     0.469569   \n",
       "10/15/2021    Rift Valley  Turkana   Kalobeyei (Village 2)  3.760887785   \n",
       "5/15/2021   North Eastern  Garissa            IFO (Daadab)     0.110807   \n",
       "1/15/2015          Nyanza   Kisumu                  Kisumu         -0.1   \n",
       "1/15/2021         Nairobi  Nairobi       Mathare (Nairobi)       -1.256   \n",
       "3/15/2021     Rift Valley  Turkana      Mogadishu (Kakuma)      3.71708   \n",
       "10/15/2018          Coast  Mombasa                 Mombasa        -4.05   \n",
       "5/15/2010         Nairobi  Nairobi                 Nairobi    -1.283333   \n",
       "\n",
       "              longitude             category         commodity   unit  \\\n",
       "date                                                                    \n",
       "11/15/2021      34.7691   cereals and tubers     Sorghum (red)  90 KG   \n",
       "6/15/2021   34.85746868   miscellaneous food             Sugar     KG   \n",
       "11/15/2021    35.980663   cereals and tubers   Millet (finger)  90 KG   \n",
       "10/15/2021  34.75283168      pulses and nuts       Beans (dry)     KG   \n",
       "5/15/2021     40.316079  meat, fish and eggs       Meat (beef)     KG   \n",
       "1/15/2015         34.75   cereals and tubers  Potatoes (Irish)  50 KG   \n",
       "1/15/2021       36.8572  meat, fish and eggs       Meat (goat)     KG   \n",
       "3/15/2021     34.850333      pulses and nuts       Beans (dry)     KG   \n",
       "10/15/2018    39.666667      pulses and nuts       Beans (dry)  90 KG   \n",
       "5/15/2010     36.816667         oil and fats   Oil (vegetable)      L   \n",
       "\n",
       "            priceflag  pricetype currency    price usdprice  \n",
       "date                                                         \n",
       "11/15/2021     actual  Wholesale      KES     3996  35.9838  \n",
       "6/15/2021   aggregate     Retail      KES      120   1.1241  \n",
       "11/15/2021     actual  Wholesale      KES     7200  64.8357  \n",
       "10/15/2021  aggregate     Retail      KES   106.67   0.9706  \n",
       "5/15/2021   aggregate     Retail      KES      480   4.4559  \n",
       "1/15/2015      actual  Wholesale      KES  1483.33  16.5413  \n",
       "1/15/2021   aggregate     Retail      KES      520   4.7532  \n",
       "3/15/2021   aggregate     Retail      KES      115   1.0642  \n",
       "10/15/2018     actual  Wholesale      KES  5243.75  52.5163  \n",
       "5/15/2010      actual     Retail      KES      138   1.7587  "
      ]
     },
     "execution_count": 4,
     "metadata": {},
     "output_type": "execute_result"
    }
   ],
   "source": [
    "# check sample data/records\n",
    "df.sample(10)"
   ]
  },
  {
   "cell_type": "markdown",
   "id": "6a7c39fa",
   "metadata": {},
   "source": [
    "# 3. Explore Data"
   ]
  },
  {
   "cell_type": "markdown",
   "id": "a571ceba",
   "metadata": {},
   "source": [
    "Data Type Description and Statistical Information"
   ]
  },
  {
   "cell_type": "code",
   "execution_count": 5,
   "id": "28e18652",
   "metadata": {},
   "outputs": [
    {
     "data": {
      "text/plain": [
       "(14755, 13)"
      ]
     },
     "execution_count": 5,
     "metadata": {},
     "output_type": "execute_result"
    }
   ],
   "source": [
    "# check shape of the dataset\n",
    "df.shape"
   ]
  },
  {
   "cell_type": "code",
   "execution_count": 6,
   "id": "754caff7",
   "metadata": {},
   "outputs": [
    {
     "name": "stdout",
     "output_type": "stream",
     "text": [
      "<class 'pandas.core.frame.DataFrame'>\n",
      "Index: 14755 entries, #date to 8/15/2022\n",
      "Data columns (total 13 columns):\n",
      " #   Column     Non-Null Count  Dtype \n",
      "---  ------     --------------  ----- \n",
      " 0   admin1     14755 non-null  object\n",
      " 1   admin2     14755 non-null  object\n",
      " 2   market     14755 non-null  object\n",
      " 3   latitude   14755 non-null  object\n",
      " 4   longitude  14755 non-null  object\n",
      " 5   category   14755 non-null  object\n",
      " 6   commodity  14755 non-null  object\n",
      " 7   unit       14755 non-null  object\n",
      " 8   priceflag  14755 non-null  object\n",
      " 9   pricetype  14755 non-null  object\n",
      " 10  currency   14755 non-null  object\n",
      " 11  price      14755 non-null  object\n",
      " 12  usdprice   14755 non-null  object\n",
      "dtypes: object(13)\n",
      "memory usage: 1.6+ MB\n"
     ]
    }
   ],
   "source": [
    "# check information of the dataset\n",
    "df.info()"
   ]
  },
  {
   "cell_type": "markdown",
   "id": "6c3c6665",
   "metadata": {},
   "source": [
    "### \n",
    "* From the above, all columns are categorical. Shows there are anomalies since some \n",
    "  columns cant have object as a datatype i.e price etc.\n",
    "* No missing values from the dataset"
   ]
  },
  {
   "cell_type": "code",
   "execution_count": 7,
   "id": "b8f8f55f",
   "metadata": {},
   "outputs": [
    {
     "data": {
      "text/html": [
       "<div>\n",
       "<style scoped>\n",
       "    .dataframe tbody tr th:only-of-type {\n",
       "        vertical-align: middle;\n",
       "    }\n",
       "\n",
       "    .dataframe tbody tr th {\n",
       "        vertical-align: top;\n",
       "    }\n",
       "\n",
       "    .dataframe thead th {\n",
       "        text-align: right;\n",
       "    }\n",
       "</style>\n",
       "<table border=\"1\" class=\"dataframe\">\n",
       "  <thead>\n",
       "    <tr style=\"text-align: right;\">\n",
       "      <th></th>\n",
       "      <th>admin1</th>\n",
       "      <th>admin2</th>\n",
       "      <th>market</th>\n",
       "      <th>latitude</th>\n",
       "      <th>longitude</th>\n",
       "      <th>category</th>\n",
       "      <th>commodity</th>\n",
       "      <th>unit</th>\n",
       "      <th>priceflag</th>\n",
       "      <th>pricetype</th>\n",
       "      <th>currency</th>\n",
       "      <th>price</th>\n",
       "      <th>usdprice</th>\n",
       "    </tr>\n",
       "  </thead>\n",
       "  <tbody>\n",
       "    <tr>\n",
       "      <th>count</th>\n",
       "      <td>14755</td>\n",
       "      <td>14755</td>\n",
       "      <td>14755</td>\n",
       "      <td>14755</td>\n",
       "      <td>14755</td>\n",
       "      <td>14755</td>\n",
       "      <td>14755</td>\n",
       "      <td>14755</td>\n",
       "      <td>14755</td>\n",
       "      <td>14755</td>\n",
       "      <td>14755</td>\n",
       "      <td>14755</td>\n",
       "      <td>14755</td>\n",
       "    </tr>\n",
       "    <tr>\n",
       "      <th>unique</th>\n",
       "      <td>8</td>\n",
       "      <td>23</td>\n",
       "      <td>63</td>\n",
       "      <td>63</td>\n",
       "      <td>63</td>\n",
       "      <td>9</td>\n",
       "      <td>48</td>\n",
       "      <td>15</td>\n",
       "      <td>4</td>\n",
       "      <td>3</td>\n",
       "      <td>2</td>\n",
       "      <td>6474</td>\n",
       "      <td>10547</td>\n",
       "    </tr>\n",
       "    <tr>\n",
       "      <th>top</th>\n",
       "      <td>Rift Valley</td>\n",
       "      <td>Nairobi</td>\n",
       "      <td>Nairobi</td>\n",
       "      <td>-1.283333</td>\n",
       "      <td>36.816667</td>\n",
       "      <td>cereals and tubers</td>\n",
       "      <td>Maize (white)</td>\n",
       "      <td>KG</td>\n",
       "      <td>actual</td>\n",
       "      <td>Wholesale</td>\n",
       "      <td>KES</td>\n",
       "      <td>50</td>\n",
       "      <td>0</td>\n",
       "    </tr>\n",
       "    <tr>\n",
       "      <th>freq</th>\n",
       "      <td>5183</td>\n",
       "      <td>3460</td>\n",
       "      <td>1835</td>\n",
       "      <td>1835</td>\n",
       "      <td>1835</td>\n",
       "      <td>7262</td>\n",
       "      <td>1869</td>\n",
       "      <td>6161</td>\n",
       "      <td>10283</td>\n",
       "      <td>8260</td>\n",
       "      <td>14754</td>\n",
       "      <td>301</td>\n",
       "      <td>286</td>\n",
       "    </tr>\n",
       "  </tbody>\n",
       "</table>\n",
       "</div>"
      ],
      "text/plain": [
       "             admin1   admin2   market   latitude  longitude  \\\n",
       "count         14755    14755    14755      14755      14755   \n",
       "unique            8       23       63         63         63   \n",
       "top     Rift Valley  Nairobi  Nairobi  -1.283333  36.816667   \n",
       "freq           5183     3460     1835       1835       1835   \n",
       "\n",
       "                  category      commodity   unit priceflag  pricetype  \\\n",
       "count                14755          14755  14755     14755      14755   \n",
       "unique                   9             48     15         4          3   \n",
       "top     cereals and tubers  Maize (white)     KG    actual  Wholesale   \n",
       "freq                  7262           1869   6161     10283       8260   \n",
       "\n",
       "       currency  price usdprice  \n",
       "count     14755  14755    14755  \n",
       "unique        2   6474    10547  \n",
       "top         KES     50        0  \n",
       "freq      14754    301      286  "
      ]
     },
     "execution_count": 7,
     "metadata": {},
     "output_type": "execute_result"
    }
   ],
   "source": [
    "# check statistical information of numerical data\n",
    "df.describe()"
   ]
  },
  {
   "cell_type": "markdown",
   "id": "b566025c",
   "metadata": {},
   "source": [
    "# 4. Data Preprocessing"
   ]
  },
  {
   "cell_type": "code",
   "execution_count": 8,
   "id": "fec14dc1",
   "metadata": {},
   "outputs": [
    {
     "data": {
      "text/plain": [
       "251"
      ]
     },
     "execution_count": 8,
     "metadata": {},
     "output_type": "execute_result"
    }
   ],
   "source": [
    "# check for duplicates\n",
    "df.duplicated().sum()"
   ]
  },
  {
   "cell_type": "code",
   "execution_count": 9,
   "id": "2ab97b69",
   "metadata": {},
   "outputs": [
    {
     "data": {
      "text/plain": [
       "0"
      ]
     },
     "execution_count": 9,
     "metadata": {},
     "output_type": "execute_result"
    }
   ],
   "source": [
    "# remove duplicates\n",
    "df = df.drop_duplicates()\n",
    "df.duplicated().sum()"
   ]
  },
  {
   "cell_type": "code",
   "execution_count": 10,
   "id": "700e98f6",
   "metadata": {
    "tags": []
   },
   "outputs": [
    {
     "data": {
      "text/html": [
       "<div>\n",
       "<style scoped>\n",
       "    .dataframe tbody tr th:only-of-type {\n",
       "        vertical-align: middle;\n",
       "    }\n",
       "\n",
       "    .dataframe tbody tr th {\n",
       "        vertical-align: top;\n",
       "    }\n",
       "\n",
       "    .dataframe thead th {\n",
       "        text-align: right;\n",
       "    }\n",
       "</style>\n",
       "<table border=\"1\" class=\"dataframe\">\n",
       "  <thead>\n",
       "    <tr style=\"text-align: right;\">\n",
       "      <th></th>\n",
       "      <th>column_name</th>\n",
       "      <th>Missing Percentage</th>\n",
       "    </tr>\n",
       "  </thead>\n",
       "  <tbody>\n",
       "    <tr>\n",
       "      <th>admin1</th>\n",
       "      <td>admin1</td>\n",
       "      <td>0.0</td>\n",
       "    </tr>\n",
       "    <tr>\n",
       "      <th>admin2</th>\n",
       "      <td>admin2</td>\n",
       "      <td>0.0</td>\n",
       "    </tr>\n",
       "    <tr>\n",
       "      <th>market</th>\n",
       "      <td>market</td>\n",
       "      <td>0.0</td>\n",
       "    </tr>\n",
       "    <tr>\n",
       "      <th>latitude</th>\n",
       "      <td>latitude</td>\n",
       "      <td>0.0</td>\n",
       "    </tr>\n",
       "    <tr>\n",
       "      <th>longitude</th>\n",
       "      <td>longitude</td>\n",
       "      <td>0.0</td>\n",
       "    </tr>\n",
       "    <tr>\n",
       "      <th>category</th>\n",
       "      <td>category</td>\n",
       "      <td>0.0</td>\n",
       "    </tr>\n",
       "    <tr>\n",
       "      <th>commodity</th>\n",
       "      <td>commodity</td>\n",
       "      <td>0.0</td>\n",
       "    </tr>\n",
       "    <tr>\n",
       "      <th>unit</th>\n",
       "      <td>unit</td>\n",
       "      <td>0.0</td>\n",
       "    </tr>\n",
       "    <tr>\n",
       "      <th>priceflag</th>\n",
       "      <td>priceflag</td>\n",
       "      <td>0.0</td>\n",
       "    </tr>\n",
       "    <tr>\n",
       "      <th>pricetype</th>\n",
       "      <td>pricetype</td>\n",
       "      <td>0.0</td>\n",
       "    </tr>\n",
       "    <tr>\n",
       "      <th>currency</th>\n",
       "      <td>currency</td>\n",
       "      <td>0.0</td>\n",
       "    </tr>\n",
       "    <tr>\n",
       "      <th>price</th>\n",
       "      <td>price</td>\n",
       "      <td>0.0</td>\n",
       "    </tr>\n",
       "    <tr>\n",
       "      <th>usdprice</th>\n",
       "      <td>usdprice</td>\n",
       "      <td>0.0</td>\n",
       "    </tr>\n",
       "  </tbody>\n",
       "</table>\n",
       "</div>"
      ],
      "text/plain": [
       "          column_name  Missing Percentage\n",
       "admin1         admin1                 0.0\n",
       "admin2         admin2                 0.0\n",
       "market         market                 0.0\n",
       "latitude     latitude                 0.0\n",
       "longitude   longitude                 0.0\n",
       "category     category                 0.0\n",
       "commodity   commodity                 0.0\n",
       "unit             unit                 0.0\n",
       "priceflag   priceflag                 0.0\n",
       "pricetype   pricetype                 0.0\n",
       "currency     currency                 0.0\n",
       "price           price                 0.0\n",
       "usdprice     usdprice                 0.0"
      ]
     },
     "execution_count": 10,
     "metadata": {},
     "output_type": "execute_result"
    }
   ],
   "source": [
    "# check for missing values and sorting the issue\n",
    "missing_perc = df.isnull().mean()*100\n",
    "missing_values = pd.DataFrame({'column_name' : df.columns, 'Missing Percentage' : missing_perc})\n",
    "missing_values"
   ]
  },
  {
   "cell_type": "markdown",
   "id": "d286da86",
   "metadata": {},
   "source": [
    "### \n",
    "- No missing values from the dataset"
   ]
  },
  {
   "cell_type": "code",
   "execution_count": 11,
   "id": "d3bc3572",
   "metadata": {},
   "outputs": [],
   "source": [
    "# make a copy of the dataframe\n",
    "df1 = df.copy()"
   ]
  },
  {
   "cell_type": "code",
   "execution_count": 12,
   "id": "25f5cf30",
   "metadata": {},
   "outputs": [],
   "source": [
    "# rename some columns\n",
    "df1 = df1.rename(columns={'admin1': 'region', 'admin2': 'county'})"
   ]
  },
  {
   "cell_type": "code",
   "execution_count": 13,
   "id": "85cdbb1d",
   "metadata": {},
   "outputs": [
    {
     "name": "stdout",
     "output_type": "stream",
     "text": [
      "region\n",
      "county\n",
      "market\n",
      "latitude\n",
      "longitude\n",
      "category\n",
      "commodity\n",
      "unit\n",
      "priceflag\n",
      "pricetype\n",
      "currency\n",
      "price\n",
      "usdprice\n"
     ]
    }
   ],
   "source": [
    "# column names\n",
    "print(*df1.columns, sep='\\n')"
   ]
  },
  {
   "cell_type": "code",
   "execution_count": 14,
   "id": "f19da0e8",
   "metadata": {
    "scrolled": true
   },
   "outputs": [
    {
     "name": "stdout",
     "output_type": "stream",
     "text": [
      "region : object\n",
      "county : object\n",
      "market : object\n",
      "latitude : object\n",
      "longitude : object\n",
      "category : object\n",
      "commodity : object\n",
      "unit : object\n",
      "priceflag : object\n",
      "pricetype : object\n",
      "currency : object\n",
      "price : object\n",
      "usdprice : object\n"
     ]
    }
   ],
   "source": [
    "# check datatypes of the above columns\n",
    "for col in df1:\n",
    "    print(f'{col} : {df1[col].dtypes}')"
   ]
  },
  {
   "cell_type": "code",
   "execution_count": 15,
   "id": "4af0adad",
   "metadata": {},
   "outputs": [
    {
     "ename": "NameError",
     "evalue": "name 'num_cols' is not defined",
     "output_type": "error",
     "traceback": [
      "\u001b[1;31m---------------------------------------------------------------------------\u001b[0m",
      "\u001b[1;31mNameError\u001b[0m                                 Traceback (most recent call last)",
      "Cell \u001b[1;32mIn[15], line 13\u001b[0m\n\u001b[0;32m     10\u001b[0m     \u001b[38;5;28;01mreturn\u001b[39;00m text\n\u001b[0;32m     12\u001b[0m \u001b[38;5;66;03m# Apply the numeric function to selected columns in the DataFrame\u001b[39;00m\n\u001b[1;32m---> 13\u001b[0m df1[num_cols] \u001b[38;5;241m=\u001b[39m df1[num_cols]\u001b[38;5;241m.\u001b[39mapplymap(numeric)\n",
      "\u001b[1;31mNameError\u001b[0m: name 'num_cols' is not defined"
     ]
    }
   ],
   "source": [
    "# remove some patterns in the columns you want to convert into numerical\n",
    "import re  # Import the regular expression module\n",
    "\n",
    "# Define the numeric conversion function\n",
    "def numeric(text):\n",
    "    if isinstance(text, str):\n",
    "        text = text.lower()\n",
    "        if re.search(r'#', text):\n",
    "            text = '0'  # Replace '#' with '0'\n",
    "    return text\n",
    "\n",
    "# Apply the numeric function to selected columns in the DataFrame\n",
    "df1[num_cols] = df1[num_cols].applymap(numeric)\n"
   ]
  },
  {
   "cell_type": "code",
   "execution_count": null,
   "id": "ffbb154a",
   "metadata": {
    "scrolled": true
   },
   "outputs": [],
   "source": [
    "# convert necessary columns to their respective datatypes\n",
    "num_cols = ['latitude', 'longitude', 'price', 'usdprice']\n",
    "for num in num_cols:\n",
    "    df1[num] = df1[num].astype('float64')\n",
    "    \n",
    "df1.dtypes"
   ]
  },
  {
   "cell_type": "markdown",
   "id": "04ae4909",
   "metadata": {},
   "source": [
    "### \n",
    "- I now have a clean dataset with their corresponding data types"
   ]
  },
  {
   "cell_type": "code",
   "execution_count": null,
   "id": "03d2110c",
   "metadata": {},
   "outputs": [],
   "source": [
    "# check statistical information of numerical data\n",
    "df1.describe()"
   ]
  },
  {
   "cell_type": "markdown",
   "id": "dc48392d",
   "metadata": {},
   "source": [
    "### \n",
    "- No outliers in my dataset"
   ]
  },
  {
   "cell_type": "markdown",
   "id": "41ce6e44",
   "metadata": {},
   "source": [
    "### 4.1 Quality mapping"
   ]
  },
  {
   "cell_type": "code",
   "execution_count": null,
   "id": "292e0a56",
   "metadata": {},
   "outputs": [],
   "source": [
    "# columns\n",
    "df1.columns"
   ]
  },
  {
   "cell_type": "code",
   "execution_count": null,
   "id": "bd1d68e2",
   "metadata": {},
   "outputs": [],
   "source": [
    "# check category \n",
    "print(*df1['category'].unique(), sep='\\n')"
   ]
  },
  {
   "cell_type": "markdown",
   "id": "3a5d391a",
   "metadata": {},
   "source": [
    "### \n",
    "- category seems to be ok"
   ]
  },
  {
   "cell_type": "code",
   "execution_count": null,
   "id": "a7c9d636",
   "metadata": {},
   "outputs": [],
   "source": [
    "# check commodity \n",
    "print(*df1['commodity'].unique(), sep='\\n')"
   ]
  },
  {
   "cell_type": "code",
   "execution_count": null,
   "id": "52f4a8d4",
   "metadata": {},
   "outputs": [],
   "source": [
    "# do a quality mapping on commodity column\n",
    "import re\n",
    "def commodity(text):\n",
    "    text = text.lower()\n",
    "    if re.match(r'^ma', text):\n",
    "        text = 'Maize'\n",
    "    if re.match(r'^b', text):\n",
    "        text = 'Beans'\n",
    "    if re.match(r'^p', text):\n",
    "        text = 'Potatoes'\n",
    "    if re.match(r'^mi', text):\n",
    "        text = 'Milk'\n",
    "    if re.match(r'^fu', text):\n",
    "        text = 'Fuel'\n",
    "    if re.match(r'^mea', text):\n",
    "        text = 'Meat'\n",
    "    if re.match(r'^oi', text):\n",
    "        text = 'Oil'\n",
    "    if re.match(r'^on', text):\n",
    "        text = 'Onion'\n",
    "    if re.match(r'^ri', text):\n",
    "        text = 'Rice'\n",
    "    if re.match(r'^so', text):\n",
    "        text = 'Sorghum'\n",
    "    if re.match(r'^cow', text):\n",
    "        text = 'Cowpeas'\n",
    "    if re.match(r'^mil', text):\n",
    "        text = 'Millet'\n",
    "    if re.match(r'^fis', text):\n",
    "        text = 'Fish'\n",
    "    return text\n",
    "        \n",
    "df1['commodity'] = df1['commodity'].apply(commodity)\n",
    "print('Unique values in Commodity column: ')\n",
    "print('-------------------------------')\n",
    "print(*df1['commodity'].unique(), sep='\\n')\n",
    "print('-------------------------------')"
   ]
  },
  {
   "cell_type": "code",
   "execution_count": null,
   "id": "dff73c80",
   "metadata": {},
   "outputs": [],
   "source": [
    "# check unit column \n",
    "print(*df1['unit'].unique(), sep='\\n')"
   ]
  },
  {
   "cell_type": "code",
   "execution_count": null,
   "id": "fb6af29a",
   "metadata": {},
   "outputs": [],
   "source": [
    "# confirm unique values of our columns\n",
    "\n",
    "# list of column names to exclude from the analysis\n",
    "excluded_cols = ['region', 'county', 'market', 'price', 'usdprice', 'latitude', 'longitude'] \n",
    "\n",
    "# loop through each column in the DataFrame\n",
    "for col in df1.columns:\n",
    "    # check if the column is not in the list of excluded columns\n",
    "    if col not in excluded_cols:\n",
    "        # retrieve unique values from the column and convert them to strings\n",
    "        unique_values = \"\\n\".join(df1[col].unique().astype(str))\n",
    "        # print column name, number of unique values, and the unique values themselves\n",
    "        print(f'{col} : {df1[col].nunique()} : {unique_values}\\n')\n",
    "        print('------------------------------------------')"
   ]
  },
  {
   "cell_type": "code",
   "execution_count": null,
   "id": "5dec3d60",
   "metadata": {},
   "outputs": [],
   "source": [
    "df1.dtypes"
   ]
  },
  {
   "cell_type": "markdown",
   "id": "9ec9b822",
   "metadata": {},
   "source": [
    "# 5. Feature Engineering\n",
    "- Here we will pick our essential features for training the model"
   ]
  },
  {
   "cell_type": "code",
   "execution_count": null,
   "id": "8da6b074",
   "metadata": {},
   "outputs": [],
   "source": [
    "# let us see our columns\n",
    "df1.columns"
   ]
  },
  {
   "cell_type": "code",
   "execution_count": null,
   "id": "9fdfacdf",
   "metadata": {},
   "outputs": [],
   "source": [
    "# create a copy of the df1 column\n",
    "df2 = df1.copy()"
   ]
  },
  {
   "cell_type": "code",
   "execution_count": null,
   "id": "edfc37a0",
   "metadata": {},
   "outputs": [],
   "source": [
    "# drop unnecessary columns\n",
    "df2.drop(columns=['usdprice', 'currency'], axis=1, inplace=True)"
   ]
  },
  {
   "cell_type": "code",
   "execution_count": null,
   "id": "f104ec1c",
   "metadata": {},
   "outputs": [],
   "source": [
    "# drop more unnecessary columns\n",
    "df2.drop(columns=['latitude', 'longitude'], axis=1, inplace=True)"
   ]
  },
  {
   "cell_type": "code",
   "execution_count": null,
   "id": "8174fb56",
   "metadata": {},
   "outputs": [],
   "source": [
    "# new columns to fit our model with\n",
    "df2.columns"
   ]
  },
  {
   "cell_type": "code",
   "execution_count": null,
   "id": "63a59f38",
   "metadata": {},
   "outputs": [],
   "source": [
    "df2.dtypes"
   ]
  },
  {
   "cell_type": "code",
   "execution_count": null,
   "id": "f55ee5e0",
   "metadata": {},
   "outputs": [],
   "source": [
    "df2.to_csv('df_preprocessed.csv', index=False)\n",
    "df2 = pd.read_csv ('df_preprocessed.csv')"
   ]
  },
  {
   "cell_type": "markdown",
   "id": "32104ddf",
   "metadata": {},
   "source": [
    "# 6. Model Selection and Training"
   ]
  },
  {
   "cell_type": "code",
   "execution_count": null,
   "id": "82c1186b",
   "metadata": {},
   "outputs": [],
   "source": [
    "from sklearn.preprocessing import LabelEncoder\n",
    "\n",
    "# Specify the chosen categorical columns to encode\n",
    "cat_cols = ['region', 'county', 'market' , 'category', 'commodity', 'unit', 'priceflag', 'pricetype']\n",
    "\n",
    "# Create an instance of LabelEncoder\n",
    "label_encoder = LabelEncoder()\n",
    "\n",
    "# Encode the categorical columns\n",
    "for col in cat_cols:\n",
    "    df2[col] = label_encoder.fit_transform(df2[col].astype(str))\n",
    "\n",
    "# Print the encoded DataFrame\n",
    "print(df2)\n"
   ]
  },
  {
   "cell_type": "code",
   "execution_count": null,
   "id": "a3d76b83",
   "metadata": {
    "scrolled": true
   },
   "outputs": [],
   "source": [
    "df2.head(10)"
   ]
  },
  {
   "cell_type": "code",
   "execution_count": null,
   "id": "4d460c1b",
   "metadata": {},
   "outputs": [],
   "source": [
    "df2.tail()"
   ]
  },
  {
   "cell_type": "code",
   "execution_count": null,
   "id": "dcb55899",
   "metadata": {},
   "outputs": [],
   "source": [
    "df2.columns"
   ]
  },
  {
   "cell_type": "code",
   "execution_count": null,
   "id": "6eee1afb",
   "metadata": {},
   "outputs": [],
   "source": [
    "df3 = df2.copy()"
   ]
  },
  {
   "cell_type": "code",
   "execution_count": null,
   "id": "7baa364c",
   "metadata": {},
   "outputs": [],
   "source": [
    "df3.head()"
   ]
  },
  {
   "cell_type": "code",
   "execution_count": null,
   "id": "996d9a5f",
   "metadata": {},
   "outputs": [],
   "source": [
    "df3.columns"
   ]
  },
  {
   "cell_type": "code",
   "execution_count": null,
   "id": "78b9eaf2",
   "metadata": {},
   "outputs": [],
   "source": [
    "df3.shape"
   ]
  },
  {
   "cell_type": "code",
   "execution_count": null,
   "id": "e66cada7",
   "metadata": {},
   "outputs": [],
   "source": [
    "# split data (70%-30%) into train set and test set \n",
    "from sklearn.model_selection import train_test_split\n",
    "\n",
    "X = df3.drop('price', axis=1)\n",
    "y = df3['price']\n",
    "\n",
    "X_train, X_test, y_train, y_test = train_test_split(X, y, test_size=0.2, random_state=0)\n",
    "X_train.shape, X_test.shape, y_train.shape, y_test.shape\n",
    "\n",
    "print ('Training Set: %d rows\\nTest Set: %d rows' % (X_train.shape[0], X_test.shape[0]))"
   ]
  },
  {
   "cell_type": "code",
   "execution_count": null,
   "id": "ece1b268",
   "metadata": {},
   "outputs": [],
   "source": [
    "X_train.columns"
   ]
  },
  {
   "cell_type": "code",
   "execution_count": null,
   "id": "fcff050c",
   "metadata": {},
   "outputs": [],
   "source": [
    "# Initialize the model\n",
    "from sklearn.metrics import r2_score\n",
    "cat = CatBoostRegressor(loss_function='RMSE', n_estimators=100, learning_rate=0.05, max_depth=5)\n",
    "xgb = XGBRegressor(objective='reg:squarederror', n_estimators=100, learning_rate=0.05, max_depth=5)\n",
    "linear = LinearRegression()\n",
    "rf = RandomForestRegressor()\n",
    "models= [cat,linear, rf,xgb]\n",
    "\n",
    "# Fit the model to the training data\n",
    "for model in models:\n",
    "    model = model.fit(X_train, y_train)\n",
    "    \n",
    "    # Make predictions on the test data\n",
    "    y_pred = model.predict(X_test)\n",
    "    \n",
    "    #metric\n",
    "    mse = r2_score(y_test, y_pred) * 100\n",
    "    print(f'error for {model} is: {mse}')\n",
    "    \n"
   ]
  },
  {
   "cell_type": "markdown",
   "id": "6d76d49d",
   "metadata": {},
   "source": [
    "# Comparisons between the trained models\n",
    "- From the trained models above: RandomForestRegressor, XGBRegressor and CatBoostRegressor are doing fairly well.\n",
    "- However, linear regression would be the best to use in this case as it has the lowest mse."
   ]
  },
  {
   "cell_type": "code",
   "execution_count": null,
   "id": "7aedd3aa",
   "metadata": {},
   "outputs": [],
   "source": [
    "import joblib\n",
    "\n",
    "# Save the model\n",
    "joblib.dump(linear, 'linear.joblib')\n"
   ]
  },
  {
   "cell_type": "code",
   "execution_count": null,
   "id": "e0021fce",
   "metadata": {},
   "outputs": [],
   "source": [
    "# View trained model\n",
    "import joblib\n",
    "from sklearn.linear_model import LinearRegression\n",
    "\n",
    "# Load the trained model\n",
    "model = joblib.load('linear.joblib')\n",
    "\n",
    "# Print the model attributes\n",
    "print(model.coef_)  # coefficients of the linear regression model\n",
    "print(model.intercept_)  # intercept of the linear regression model\n",
    "print(model.get_params())  # parameters used to train the model\n"
   ]
  },
  {
   "cell_type": "code",
   "execution_count": null,
   "id": "785cb3b6",
   "metadata": {},
   "outputs": [],
   "source": [
    "import joblib\n",
    "\n",
    "# Save the model\n",
    "joblib.dump(cat, 'catboost.joblib')"
   ]
  },
  {
   "cell_type": "code",
   "execution_count": null,
   "id": "6b90293a",
   "metadata": {},
   "outputs": [],
   "source": []
  }
 ],
 "metadata": {
  "kernelspec": {
   "display_name": "Python 3 (ipykernel)",
   "language": "python",
   "name": "python3"
  },
  "language_info": {
   "codemirror_mode": {
    "name": "ipython",
    "version": 3
   },
   "file_extension": ".py",
   "mimetype": "text/x-python",
   "name": "python",
   "nbconvert_exporter": "python",
   "pygments_lexer": "ipython3",
   "version": "3.11.4"
  }
 },
 "nbformat": 4,
 "nbformat_minor": 5
}
